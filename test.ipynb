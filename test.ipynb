{
 "cells": [
  {
   "cell_type": "code",
   "execution_count": 4,
   "metadata": {},
   "outputs": [],
   "source": [
    "import numpy as np\n",
    "from env.world import NetworkWorld as World\n",
    "from env.task import TraversalTask as Task"
   ]
  },
  {
   "cell_type": "code",
   "execution_count": 5,
   "metadata": {},
   "outputs": [],
   "source": [
    "W1 = {}\n",
    "W1['edges'] = {0:[14,1,2,3],\n",
    "               1:[0,2,3,4],\n",
    "               2:[1,3,4,0],\n",
    "               3:[2,4,0,1],\n",
    "               4:[3,5,1,2],\n",
    "               5:[4,6,7,8],\n",
    "               6:[5,7,8,9],\n",
    "               7:[6,8,9,5],\n",
    "               8:[7,9,5,6],\n",
    "               9:[8,10,6,7],\n",
    "               10:[9,11,12,13],\n",
    "               11:[10,12,13,14],\n",
    "               12:[11,13,14,10],\n",
    "               13:[12,14,10,11],\n",
    "               14:[13,0,11,12]}\n",
    "W1['nodes'] = np.array(list(W1['edges'].keys()))\n",
    "\n",
    "W2 = {}\n",
    "W2['edges'] = {0:[14,3], 1:[0,4], 2:[1,0],\n",
    "         3:[2,1], 4:[3,2], 5:[4,8],\n",
    "         6:[5,9], 7:[6,5], 8:[7,6],\n",
    "         9:[8,7], 10:[9,13], 11:[10,14],\n",
    "         12:[11,10], 13:[12,11], 14:[13,12]}\n",
    "W2['nodes'] = np.array(list(W2['edges'].keys()))"
   ]
  },
  {
   "cell_type": "code",
   "execution_count": 6,
   "metadata": {},
   "outputs": [],
   "source": [
    "w1 = World(W1['nodes'], W1['edges'])\n",
    "w2 = World(W2['nodes'], W2['edges'])"
   ]
  },
  {
   "cell_type": "code",
   "execution_count": null,
   "metadata": {},
   "outputs": [],
   "source": []
  }
 ],
 "metadata": {
  "kernelspec": {
   "display_name": "py37",
   "language": "python",
   "name": "py37"
  },
  "language_info": {
   "codemirror_mode": {
    "name": "ipython",
    "version": 3
   },
   "file_extension": ".py",
   "mimetype": "text/x-python",
   "name": "python",
   "nbconvert_exporter": "python",
   "pygments_lexer": "ipython3",
   "version": "3.7.6"
  }
 },
 "nbformat": 4,
 "nbformat_minor": 4
}
